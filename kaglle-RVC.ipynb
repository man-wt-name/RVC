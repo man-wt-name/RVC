{
 "cells": [
  {
   "attachments": {},
   "cell_type": "markdown",
   "metadata": {},
   "source": [
    "# [Retrieval-based-Voice-Conversion-WebUI](https://github.com/RVC-Project/Retrieval-based-Voice-Conversion-WebUI) Блокнот для обучения (Адаптировано для Kaggle)"
   ]
  },
  {
   "attachments": {},
   "cell_type": "markdown",
   "metadata": {},
   "source": [
    "## **Важно: Настройка для Kaggle**\n",
    "\n",
    "1.  **Добавьте ваши данные:**\n",
    "    * Загрузите ваш набор данных (например, zip-архив с аудиофайлами) как **Kaggle Dataset**.\n",
    "    * Загрузите необходимые предварительно обученные модели (файлы `.pth`, `.index`, `.npy`, `hubert_base.pt`, `rmvpe.pt`, модели uvr5) также как **Kaggle Dataset** (можно объединить с вашим набором данных или создать отдельный набор данных для моделей).\n",
    "2.  **Подключите наборы данных к этому блокноту:**\n",
    "    * В правой панели Kaggle нажмите \"+ Add Data\".\n",
    "    * Найдите и добавьте созданные вами наборы данных.\n",
    "3.  **Обновите пути в ячейках ниже:**\n",
    "    * Замените `/path/to/your/dataset/on/kaggle` на актуальный путь к вашему набору данных (например, `/kaggle/input/your-dataset-name/your_archive.zip`).\n",
    "    * Замените `/path/to/your/models/on/kaggle` на актуальный путь к вашим моделям в Kaggle Datasets (например, `/kaggle/input/your-models-name/`)."
   ]
  },
  {
   "cell_type": "code",
   "execution_count": null,
   "metadata": {
    "id": "GmFP6bN9dvOq-kaggle"
   },
   "outputs": [],
   "source": [
    "# @title #Проверить видеокарту\n",
    "!nvidia-smi"
   ]
  },
  {
   "cell_type": "markdown",
   "metadata": {},
   "source": [
    "### Установка зависимостей"
   ]
  },
  {
   "cell_type": "code",
   "execution_count": null,
   "metadata": {
    "id": "wjddIFr1oS3W-kaggle"
   },
   "outputs": [],
   "source": [
    "# @title #Установить зависимости\n",
    "# Обновляем pip и устанавливаем базовые пакеты\n",
    "!pip install --upgrade pip setuptools wheel\n",
    "\n",
    "# Устанавливаем FFmpeg (может быть уже установлен в среде Kaggle)\n",
    "# Попробуйте без этой строки, если возникнут ошибки - раскомментируйте\n",
    "# !apt-get update && apt-get install -y ffmpeg\n",
    "\n",
    "# Устанавливаем основные Python-зависимости\n",
    "!pip install faiss-cpu==1.7.2 fairseq gradio==3.14.0 ffmpeg-python praat-parselmouth pyworld numpy==1.23.5 numba==0.56.4 librosa==0.9.2\n",
    "\n",
    "# Устанавливаем aria2 для скачивания (если нужно скачивать модели из ячеек ниже)\n",
    "!apt-get -y install -qq aria2 || echo \"aria2 already installed or failed, proceeding...\""
   ]
  },
  {
   "cell_type": "markdown",
   "metadata": {},
   "source": [
    "### Клонирование репозитория RVC"
   ]
  },
  {
   "cell_type": "code",
   "execution_count": null,
   "metadata": {
    "id": "ge_97mfpgqTm-kaggle"
   },
   "outputs": [],
   "source": [
    "# @title #Клонировать репозиторий\n",
    "# Переходим в рабочую директорию Kaggle\n",
    "import os\n",
    "os.chdir('/kaggle/working/')\n",
    "\n",
    "# Клонируем репозиторий\n",
    "!git clone https://github.com/RVC-Project/Retrieval-based-Voice-Conversion-WebUI.git\n",
    "os.chdir('/kaggle/working/Retrieval-based-Voice-Conversion-WebUI')\n",
    "# !git checkout cfd984812804ddc9247d65b14c82cd32e56c1133 # При необходимости можно переключиться на конкретный коммит\n",
    "\n",
    "print(f\"Current directory: {os.getcwd()}\")"
   ]
  },
  {
   "cell_type": "markdown",
   "metadata": {},
   "source": [
    "### Загрузка необходимых моделей\n",
    "**Примечание:** Лучше загрузить эти модели как Kaggle Dataset для ускорения запуска и стабильности. Если вы это сделали, **пропустите** следующие ячейки скачивания и переходите к копированию моделей из вашего Kaggle Dataset."
   ]
  },
  {
   "cell_type": "code",
   "execution_count": null,
   "metadata": {
    "id": "UG3XpUwEomUz-kaggle-download"
   },
   "outputs": [],
   "source": [
    "# @title Скачать базовые модели (Альтернатива: использовать Kaggle Dataset)\n",
    "# Убедитесь, что вы находитесь в директории репозитория\n",
    "import os\n",
    "repo_dir = '/kaggle/working/Retrieval-based-Voice-Conversion-WebUI'\n",
    "if os.getcwd() != repo_dir:\n",
    "  os.chdir(repo_dir)\n",
    "\n",
    "# Создаем директории, если их нет\n",
    "!mkdir -p pretrained pretrained_v2\n",
    "\n",
    "# v1 (Скачиваем только необходимые для примера, добавьте/удалите по необходимости)\n",
    "!aria2c --console-log-level=error -c -x 16 -s 16 -k 1M https://huggingface.co/lj1995/VoiceConversionWebUI/resolve/main/pretrained/D40k.pth -d pretrained -o D40k.pth\n",
    "!aria2c --console-log-level=error -c -x 16 -s 16 -k 1M https://huggingface.co/lj1995/VoiceConversionWebUI/resolve/main/pretrained/G40k.pth -d pretrained -o G40k.pth\n",
    "!aria2c --console-log-level=error -c -x 16 -s 16 -k 1M https://huggingface.co/lj1995/VoiceConversionWebUI/resolve/main/pretrained/f0D40k.pth -d pretrained -o f0D40k.pth\n",
    "!aria2c --console-log-level=error -c -x 16 -s 16 -k 1M https://huggingface.co/lj1995/VoiceConversionWebUI/resolve/main/pretrained/f0G40k.pth -d pretrained -o f0G40k.pth\n",
    "\n",
    "# v2 (Скачиваем только необходимые для примера, добавьте/удалите по необходимости)\n",
    "!aria2c --console-log-level=error -c -x 16 -s 16 -k 1M https://huggingface.co/lj1995/VoiceConversionWebUI/resolve/main/pretrained_v2/D40k.pth -d pretrained_v2 -o D40k.pth\n",
    "!aria2c --console-log-level=error -c -x 16 -s 16 -k 1M https://huggingface.co/lj1995/VoiceConversionWebUI/resolve/main/pretrained_v2/G40k.pth -d pretrained_v2 -o G40k.pth\n",
    "!aria2c --console-log-level=error -c -x 16 -s 16 -k 1M https://huggingface.co/lj1995/VoiceConversionWebUI/resolve/main/pretrained_v2/f0D40k.pth -d pretrained_v2 -o f0D40k.pth\n",
    "!aria2c --console-log-level=error -c -x 16 -s 16 -k 1M https://huggingface.co/lj1995/VoiceConversionWebUI/resolve/main/pretrained_v2/f0G40k.pth -d pretrained_v2 -o f0G40k.pth"
   ]
  },
  {
   "cell_type": "code",
   "execution_count": null,
   "metadata": {
    "id": "HugjmZqZRuiF-kaggle-download"
   },
   "outputs": [],
   "source": [
    "# @title #Скачать модели для разделения вокала (Альтернатива: использовать Kaggle Dataset)\n",
    "!mkdir -p uvr5_weights\n",
    "!aria2c --console-log-level=error -c -x 16 -s 16 -k 1M https://huggingface.co/lj1995/VoiceConversionWebUI/resolve/main/uvr5_weights/HP2-人声vocals+非人声instrumentals.pth -d uvr5_weights -o HP2-Вокал+Инструментал.pth\n",
    "!aria2c --console-log-level=error -c -x 16 -s 16 -k 1M https://huggingface.co/lj1995/VoiceConversionWebUI/resolve/main/uvr5_weights/HP5-主旋律人声vocals+其他instrumentals.pth -d uvr5_weights -o HP5-Основной_вокал+Другие_инструменты.pth"
   ]
  },
  {
   "cell_type": "code",
   "execution_count": null,
   "metadata": {
    "id": "2RCaT9FTR0ej-kaggle-download"
   },
   "outputs": [],
   "source": [
    "# @title #Скачать hubert_base (Альтернатива: использовать Kaggle Dataset)\n",
    "!aria2c --console-log-level=error -c -x 16 -s 16 -k 1M https://huggingface.co/lj1995/VoiceConversionWebUI/resolve/main/hubert_base.pt -d . -o hubert_base.pt"
   ]
  },
  {
   "cell_type": "code",
   "execution_count": null,
   "metadata": {
     "id": "rmvpe-kaggle-download"
   },
   "outputs": [],
   "source": [
    "# @title #Скачать rmvpe модель (Альтернатива: использовать Kaggle Dataset)\n",
    "!aria2c --console-log-level=error -c -x 16 -s 16 -k 1M https://huggingface.co/lj1995/VoiceConversionWebUI/resolve/main/rmvpe.pt -d . -o rmvpe.pt"
   ]
  },
  {
   "cell_type": "markdown",
   "metadata": {},
   "source": [
    "### Копирование моделей и данных из Kaggle Datasets\n",
    "Если вы загрузили модели и данные как Kaggle Datasets, раскомментируйте и отредактируйте следующие ячейки."
   ]
  },
   {
   "cell_type": "code",
   "execution_count": null,
   "metadata": {
     "id": "kaggle-copy-models"
   },
   "outputs": [],
   "source": [
    "# @title #Копировать модели из Kaggle Dataset (Отредактируйте пути!) \n",
    "# import os\n",
    "# import shutil\n",
    "\n",
    "# --- ОТРЕДАКТИРУЙТЕ ЭТИ ПУТИ ---\n",
    "# Путь к вашему Kaggle Dataset с моделями (например, '/kaggle/input/rvc-models/')\n",
    "# KAGGLE_MODELS_PATH = '/kaggle/input/your-models-dataset-name/' \n",
    "# --- КОНЕЦ РЕДАКТИРОВАНИЯ ---\n",
    "\n",
    "# Целевые директории в рабочей папке\n",
    "# repo_dir = '/kaggle/working/Retrieval-based-Voice-Conversion-WebUI'\n",
    "# pretrained_v1_dest = os.path.join(repo_dir, 'pretrained')\n",
    "# pretrained_v2_dest = os.path.join(repo_dir, 'pretrained_v2')\n",
    "# uvr5_dest = os.path.join(repo_dir, 'uvr5_weights')\n",
    "# hubert_dest = repo_dir\n",
    "# rmvpe_dest = repo_dir\n",
    "\n",
    "# Создаем директории, если они не существуют\n",
    "# os.makedirs(pretrained_v1_dest, exist_ok=True)\n",
    "# os.makedirs(pretrained_v2_dest, exist_ok=True)\n",
    "# os.makedirs(uvr5_dest, exist_ok=True)\n",
    "\n",
    "# Функция для безопасного копирования\n",
    "# def safe_copy(src, dst):\n",
    "#     try:\n",
    "#         shutil.copy(src, dst)\n",
    "#         print(f'Скопировано: {src} -> {dst}')\n",
    "#     except FileNotFoundError:\n",
    "#         print(f'Файл не найден (пропускаем): {src}')\n",
    "#     except Exception as e:\n",
    "#         print(f'Ошибка копирования {src} в {dst}: {e}')\n",
    "\n",
    "# Копируем базовые модели v1 и v2 (добавьте/удалите файлы по необходимости)\n",
    "# for model_file in ['D40k.pth', 'G40k.pth', 'f0D40k.pth', 'f0G40k.pth']:\n",
    "#    safe_copy(os.path.join(KAGGLE_MODELS_PATH, 'pretrained', model_file), pretrained_v1_dest)\n",
    "#    safe_copy(os.path.join(KAGGLE_MODELS_PATH, 'pretrained_v2', model_file), pretrained_v2_dest)\n",
    "\n",
    "# Копируем модели UVR5\n",
    "# safe_copy(os.path.join(KAGGLE_MODELS_PATH, 'uvr5_weights', 'HP2-Вокал+Инструментал.pth'), uvr5_dest)\n",
    "# safe_copy(os.path.join(KAGGLE_MODELS_PATH, 'uvr5_weights', 'HP5-Основной_вокал+Другие_инструменты.pth'), uvr5_dest)\n",
    "\n",
    "# Копируем Hubert и RMVPE\n",
    "# safe_copy(os.path.join(KAGGLE_MODELS_PATH, 'hubert_base.pt'), hubert_dest)\n",
    "# safe_copy(os.path.join(KAGGLE_MODELS_PATH, 'rmvpe.pt'), rmvpe_dest)\n",
    "\n",
    "# print(\"Копирование моделей завершено.\")"
   ]
  },
  {
   "cell_type": "markdown",
   "metadata": {},
   "source": [
    "### Подготовка набора данных для обучения"
   ]
  },
  {
   "cell_type": "code",
   "execution_count": null,
   "metadata": {
    "id": "Mwk7Q0Loqzjx-kaggle"
   },
   "outputs": [],
   "source": [
    "# @title #Распаковать набор данных из Kaggle Dataset\n",
    "import os\n",
    "import zipfile\n",
    "\n",
    "# --- ОТРЕДАКТИРУЙТЕ ЭТИ ПУТИ ---\n",
    "# Путь к вашему zip-архиву с данными в Kaggle Datasets\n",
    "DATASET_ZIP_PATH = \"/kaggle/input/your-dataset-name/your_dataset_archive.zip\"  # @param {type:\"string\"}\n",
    "# --- КОНЕЦ РЕДАКТИРОВАНИЯ ---\n",
    "\n",
    "# Директория для распакованных данных\n",
    "DATASET_EXTRACT_DIR = \"/kaggle/working/dataset\"\n",
    "\n",
    "# Создаем директорию для распаковки\n",
    "os.makedirs(DATASET_EXTRACT_DIR, exist_ok=True)\n",
    "\n",
    "# Распаковываем архив\n",
    "try:\n",
    "    with zipfile.ZipFile(DATASET_ZIP_PATH, 'r') as zip_ref:\n",
    "        zip_ref.extractall(DATASET_EXTRACT_DIR)\n",
    "    print(f\"Набор данных успешно распакован в {DATASET_EXTRACT_DIR}\")\n",
    "    # Опционально: Посмотреть содержимое\n",
    "    # !ls -R {DATASET_EXTRACT_DIR}\n",
    "except FileNotFoundError:\n",
    "    print(f\"Ошибка: Архив не найден по пути {DATASET_ZIP_PATH}. Убедитесь, что путь указан верно и Dataset подключен.\")\n",
    "except Exception as e:\n",
    "    print(f\"Ошибка при распаковке архива: {e}\")\n",
    "\n",
    "# @title # (Опционально) Переименовать дубликаты файлов в наборе данных\n",
    "# Эта команда ищет файлы с тильдой (~) в конце, которые могут создаваться при дублировании имен\n",
    "# и переименовывает их в формат 'имя_файла_ЦИФРА.расширение'.\n",
    "# Если вы уверены, что дубликатов нет, или обработали их иначе, эту ячейку можно пропустить.\n",
    "\n",
    "# Проверяем содержимое перед переименованием\n",
    "!echo \"Содержимое до переименования:\"\n",
    "!ls -a {DATASET_EXTRACT_DIR}/\n",
    "\n",
    "# Выполняем переименование (используем find для рекурсивного поиска)\n",
    "!find {DATASET_EXTRACT_DIR}/ -name '*.*~*' -exec rename 's/(\\w+)\\.(\\w+)~(\\d*)/$1_$3.$2/' '{}' \\;\n",
    "\n",
    "# Проверяем содержимое после переименования\n",
    "!echo \"\\nСодержимое после переименования:\"\n",
    "!ls -a {DATASET_EXTRACT_DIR}/"
   ]
  },
  {
   "cell_type": "markdown",
   "metadata": {},
   "source": [
    "### Запуск Web UI для обучения и инференса\n",
    "**Примечание:** В Kaggle прямой доступ к веб-интерфейсу через публичный URL (как в Colab) может быть затруднен или не работать из-за сетевых ограничений Kaggle. Возможно, потребуется использовать другие методы для доступа к интерфейсу, если стандартный `share=True` от Gradio не сработает (например, ngrok или аналогичные туннели, что требует дополнительной настройки)."
   ]
  },
  {
   "cell_type": "code",
   "execution_count": null,
   "metadata": {
    "id": "7vh6vphDwO0b-kaggle"
   },
   "outputs": [],
   "source": [
    "# @title #Запустить webui\n",
    "import os\n",
    "# Убедимся, что мы в правильной директории\n",
    "repo_dir = '/kaggle/working/Retrieval-based-Voice-Conversion-WebUI'\n",
    "if os.getcwd() != repo_dir:\n",
    "  os.chdir(repo_dir)\n",
    "\n",
    "# %load_ext tensorboard\n",
    "# %tensorboard --logdir ./logs --port 6006 # Tensorboard может потребовать настройки порта в Kaggle\n",
    "\n",
    "# Запускаем webui. Флаг --share пытается создать публичную ссылку Gradio.\n",
    "# Флаг --colab удален, так как мы не в Colab.\n",
    "!python infer-web.py --pycmd python3 --share"
   ]
  },
  {
   "cell_type": "markdown",
   "metadata": {},
   "source": [
    "### Сохранение результатов\n",
    "Обученные модели (`.pth`, `.index`, `.npy` файлы) будут сохранены в поддиректориях внутри `/kaggle/working/Retrieval-based-Voice-Conversion-WebUI/logs/` и в `/kaggle/working/Retrieval-based-Voice-Conversion-WebUI/weights/`.\n",
    "\n",
    "Чтобы сохранить эти файлы после завершения сессии Kaggle:\n",
    "1.  **Найдите нужные файлы:** Используйте файловый менеджер Kaggle (вкладка \"Data\" -> \"Output\"), чтобы найти файлы в директории `/kaggle/working/`. \n",
    "2.  **Сохраните как Output:** Нажмите кнопку \"Save Version\" -> \"Save & Run All (Commit)\". После завершения работы блокнота, файлы из `/kaggle/working/` будут доступны для скачивания в разделе \"Output\" вашей версии блокнота."
   ]
  },
  {
   "cell_type": "code",
   "execution_count": null,
   "metadata": {
    "id": "FgJuNeAwx5Y_-kaggle-save"
   },
   "outputs": [],
   "source": [
    "# @title #Пример: Копирование важных файлов в корневую папку /kaggle/working/ для удобства сохранения\n",
    "# @markdown #Эта ячейка НЕ обязательна, но может помочь организовать файлы для сохранения.\n",
    "# @markdown #Отредактируйте MODELNAME и MODELEPOCH!\n",
    "import os\n",
    "import shutil\n",
    "\n",
    "# --- ОТРЕДАКТИРУЙТЕ ПАРАМЕТРЫ МОДЕЛИ ---\n",
    "# Имя модели (должно совпадать с именем в папке logs)\n",
    "MODELNAME = \"lulu\"  # @param {type:\"string\"}\n",
    "# Эпоха модели (конкретная версия, которую хотите сохранить)\n",
    "MODELEPOCH = 9600  # @param {type:\"integer\"}\n",
    "# --- КОНЕЦ РЕДАКТИРОВАНИЯ ---\n",
    "\n",
    "# Пути к файлам\n",
    "repo_dir = '/kaggle/working/Retrieval-based-Voice-Conversion-WebUI'\n",
    "logs_dir = os.path.join(repo_dir, 'logs', MODELNAME)\n",
    "weights_dir = os.path.join(repo_dir, 'weights')\n",
    "output_dir = '/kaggle/working/saved_model'\n",
    "\n",
    "# Создаем папку для сохранения\n",
    "os.makedirs(output_dir, exist_ok=True)\n",
    "\n",
    "# Файлы для копирования\n",
    "g_pth_name = f'G_{MODELEPOCH}.pth'\n",
    "d_pth_name = f'D_{MODELEPOCH}.pth'\n",
    "final_weights_name = f'{MODELNAME}.pth'\n",
    "index_pattern = 'added_*.index' # Ищем все index файлы\n",
    "npy_pattern = 'total_*.npy'     # Ищем все npy файлы\n",
    "\n",
    "# Функция для безопасного копирования\n",
    "def safe_copy(src, dst):\n",
    "    try:\n",
    "        if os.path.exists(src):\n",
    "            shutil.copy(src, dst)\n",
    "            print(f'Скопировано: {src} -> {dst}')\n",
    "        else:\n",
    "            print(f'Файл не найден (пропускаем): {src}')\n",
    "    except Exception as e:\n",
    "        print(f'Ошибка копирования {src} в {dst}: {e}')\n",
    "\n",
    "# Функция для копирования по шаблону\n",
    "def copy_pattern(pattern, src_dir, dst_dir):\n",
    "    import glob\n",
    "    found_files = glob.glob(os.path.join(src_dir, pattern))\n",
    "    if not found_files:\n",
    "        print(f'Файлы по шаблону {pattern} не найдены в {src_dir}')\n",
    "    for file_path in found_files:\n",
    "        safe_copy(file_path, dst_dir)\n",
    "\n",
    "print(f\"Копирование файлов модели '{MODELNAME}' эпохи {MODELEPOCH} в {output_dir}...\")\n",
    "\n",
    "# Копируем основные файлы .pth\n",
    "safe_copy(os.path.join(logs_dir, g_pth_name), output_dir)\n",
    "safe_copy(os.path.join(logs_dir, d_pth_name), output_dir)\n",
    "safe_copy(os.path.join(weights_dir, final_weights_name), output_dir)\n",
    "\n",
    "# Копируем .index и .npy файлы\n",
    "copy_pattern(index_pattern, logs_dir, output_dir)\n",
    "copy_pattern(npy_pattern, logs_dir, output_dir)\n",
    "\n",
    "print(\"Копирование завершено. Проверьте папку 'saved_model' в /kaggle/working/\")\n",
    "!ls -l /kaggle/working/saved_model/"
   ]
  },
  {
   "cell_type": "markdown",
   "metadata": {},
   "source": [
    "### Дополнительные команды (адаптированы для Kaggle)\n",
    "Следующие ячейки для ручного выполнения шагов (предварительная обработка, извлечение признаков, обучение) адаптированы для использования путей Kaggle. Они могут быть полезны для отладки или если вы не хотите использовать Web UI."
   ]
  },
  {
   "cell_type": "code",
   "execution_count": null,
   "metadata": {
    "id": "ZKAyuKb9J6dz-kaggle"
   },
   "outputs": [],
   "source": [
    "# @title Ручная предварительная обработка (не рекомендуется)\n",
    "import os\n",
    "repo_dir = '/kaggle/working/Retrieval-based-Voice-Conversion-WebUI'\n",
    "if os.getcwd() != repo_dir:\n",
    "  os.chdir(repo_dir)\n",
    "\n",
    "# @markdown Имя модели\n",
    "MODELNAME = \"lulu\"  # @param {type:\"string\"}\n",
    "# @markdown Частота дискретизации\n",
    "BITRATE = 40000  # @param {type:\"integer\"} например 32000, 40000, 48000\n",
    "# @markdown Количество используемых процессов (рекомендуется <= количество ядер CPU в Kaggle)\n",
    "THREADCOUNT = 2  # @param {type:\"integer\"}\n",
    "# @markdown Путь к вашим аудиоданным\n",
    "DATASET_DIR = \"/kaggle/working/dataset\" # Убедитесь, что данные здесь\n",
    "\n",
    f"!python trainset_preprocess_pipeline_print.py {DATASET_DIR} {BITRATE} {THREADCOUNT} logs/{MODELNAME} True"
   ]
  },
  {
   "cell_type": "code",
   "execution_count": null,
   "metadata": {
    "id": "CrxJqzAUKmPJ-kaggle"
   },
   "outputs": [],
   "source": [
    "# @title Ручное извлечение признаков (не рекомендуется)\n",
    "import os\n",
    "repo_dir = '/kaggle/working/Retrieval-based-Voice-Conversion-WebUI'\n",
    "if os.getcwd() != repo_dir:\n",
    "  os.chdir(repo_dir)\n",
    "\n",
    "# @markdown Имя модели\n",
    "MODELNAME = \"lulu\"  # @param {type:\"string\"}\n",
    "# @markdown Количество используемых процессов\n",
    "THREADCOUNT = 2  # @param {type:\"integer\"}\n",
    "# @markdown Алгоритм извлечения высоты тона (например, 'pm', 'harvest', 'crepe', 'rmvpe')\n",
    "ALGO = \"rmvpe\"  # @param {type:\"string\"}\n",
    "\n",
    "# Извлечение F0\n",
    f"!python extract_f0_print.py logs/{MODELNAME} {THREADCOUNT} {ALGO}\n",
    "\n",
    "# Извлечение признаков (Убедитесь, что Hubert скачан и находится в repo_dir)\n",
    "# Параметры: устройство (cpu/cuda:0), кол-во GPU, ранг GPU, ранг порта, директория логов, версия RVC (v1/v2), использовать ли half-precision\n",
    "!python extract_feature_print.py cuda:0 1 0 0 logs/{MODELNAME} v2 True"
   ]
  },
  {
   "cell_type": "code",
   "execution_count": null,
   "metadata": {
    "id": "IMLPLKOaKj58-kaggle"
   },
   "outputs": [],
   "source": [
    "# @title Ручное обучение (не рекомендуется)\n",
    "import os\n",
    "repo_dir = '/kaggle/working/Retrieval-based-Voice-Conversion-WebUI'\n",
    "if os.getcwd() != repo_dir:\n",
    "  os.chdir(repo_dir)\n",
    "\n",
    "# @markdown Имя модели (эксперимента)\n",
    "MODELNAME = \"lulu\"  # @param {type:\"string\"}\n",
    "# @markdown Используемый GPU (обычно 0 в Kaggle)\n",
    "USEGPU = \"0\"  # @param {type:\"string\"}\n",
    "# @markdown Размер пакета (подберите под VRAM GPU)\n",
    "BATCHSIZE = 8  # @param {type:\"integer\"}\n",
    "# @markdown Общее количество эпох обучения\n",
    "TOTAL_EPOCH = 100  # @param {type:\"integer\"}\n",
    "# @markdown Интервал сохранения (в эпохах)\n",
    "SAVE_EPOCH = 10  # @param {type:\"integer\"}\n",
    "# @markdown Частота дискретизации модели ('32k', '40k', '48k')\n",
    "MODELSAMPLE = \"40k\"  # @param {type:\"string\"}\n",
    "# @markdown Версия RVC (1 или 2)\n",
    "RVC_VERSION = \"v2\" # @param {type:\"string\"}\n",
    "# @markdown Предварительно извлекать ли F0 (1=да, 0=нет)\n",
    "PRE_F0 = 1 # @param {type:\"integer\"}\n",
    "# @markdown Кэшировать ли обучающий набор данных (1=да, 0=нет)\n",
    "CACHE_DATA = 1  # @param {type:\"integer\"}\n",
    "# @markdown Сохранять ли только последний ckpt и оптимизатор (1=да, 0=нет)\n",
    "ONLY_LATEST = 0  # @param {type:\"integer\"}\n",
    "\n",
    "# Пути к предварительно обученным моделям (убедитесь, что они существуют)\n",
    "pretrained_g = f'pretrained_{RVC_VERSION}/f0G{MODELSAMPLE}.pth'\n",
    "pretrained_d = f'pretrained_{RVC_VERSION}/f0D{MODELSAMPLE}.pth'\n",
    "\n",
    f"!python train_nsf_sim_cache_sid_load_pretrain.py \\\n",
    f"-e {MODELNAME} \\\n",
    f"-sr {MODELSAMPLE} \\\n",
    f"-f0 {PRE_F0} \\\n",
    f"-bs {BATCHSIZE} \\\n",
    f"-g {USEGPU} \\\n",
    f"-te {TOTAL_EPOCH} \\\n",
    f"-se {SAVE_EPOCH} \\\n",
    f"-pg {pretrained_g} \\\n",
    f"-pd {pretrained_d} \\\n",
    f"-l {ONLY_LATEST} \\\n",
    f"-c {CACHE_DATA} \\\n",
    f"-v {RVC_VERSION}"
   ]
  }
 ],
 "metadata": {
  "accelerator": "GPU",
  "kernelspec": {
   "display_name": "Python 3",
   "name": "python3"
  },
  "language_info": {
   "name": "python"
  },
  "resources": {
       "accelerator_count": 1 # Указываем, что нужен 1 GPU
   },
  "kaggle": {
       "accelerator": "GPU T4 x2" # Пример запроса GPU в Kaggle, можно выбрать другие
   }
 },
 "nbformat": 4,
 "nbformat_minor": 0
}